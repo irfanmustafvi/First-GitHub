{
 "cells": [
  {
   "cell_type": "code",
   "execution_count": null,
   "id": "20bbbf60",
   "metadata": {},
   "outputs": [],
   "source": [
    "# body mass index (BMI)\n",
    "# input weight\n",
    "# height\n",
    "# BMI (ask yourself height) \n",
    "# weight\n",
    "# calculate BNI\n",
    "# print BMI (My name is\"______\" and My BMI is \"____\")"
   ]
  },
  {
   "cell_type": "code",
   "execution_count": null,
   "id": "a84e59d6",
   "metadata": {},
   "outputs": [],
   "source": [
    "# weight in kg/ height in cm in squares"
   ]
  },
  {
   "cell_type": "code",
   "execution_count": 1,
   "id": "80a67e52",
   "metadata": {},
   "outputs": [
    {
     "name": "stdout",
     "output_type": "stream",
     "text": [
      "what is your height?1.68\n"
     ]
    }
   ],
   "source": [
    "height = input(\"what is your height?\")"
   ]
  },
  {
   "cell_type": "code",
   "execution_count": 2,
   "id": "7d394d8f",
   "metadata": {},
   "outputs": [],
   "source": [
    "height = float(height)"
   ]
  },
  {
   "cell_type": "code",
   "execution_count": 3,
   "id": "8d64b68d",
   "metadata": {},
   "outputs": [
    {
     "name": "stdout",
     "output_type": "stream",
     "text": [
      "what is your weight72\n"
     ]
    }
   ],
   "source": [
    "weight = input(\"what is your weight\")"
   ]
  },
  {
   "cell_type": "code",
   "execution_count": 4,
   "id": "f23103fa",
   "metadata": {},
   "outputs": [],
   "source": [
    "weight = float(weight)"
   ]
  },
  {
   "cell_type": "code",
   "execution_count": 12,
   "id": "2a0b1895",
   "metadata": {},
   "outputs": [
    {
     "name": "stdout",
     "output_type": "stream",
     "text": [
      "what is your name irfan\n"
     ]
    }
   ],
   "source": [
    "name = input(\"what is your name?\" )"
   ]
  },
  {
   "cell_type": "code",
   "execution_count": 13,
   "id": "884f0ffd",
   "metadata": {},
   "outputs": [
    {
     "data": {
      "text/plain": [
       "25.510204081632658"
      ]
     },
     "execution_count": 13,
     "metadata": {},
     "output_type": "execute_result"
    }
   ],
   "source": [
    "BMI = weight/height**2\n",
    "BMI"
   ]
  },
  {
   "cell_type": "code",
   "execution_count": 16,
   "id": "a62005ad",
   "metadata": {},
   "outputs": [
    {
     "name": "stdout",
     "output_type": "stream",
     "text": [
      "My name is  irfan and My BMI is 25.510204081632658\n"
     ]
    }
   ],
   "source": [
    "print(\"My name is\" ,name, \"and My BMI is\" , BMI)"
   ]
  },
  {
   "cell_type": "code",
   "execution_count": null,
   "id": "45032031",
   "metadata": {},
   "outputs": [],
   "source": []
  },
  {
   "cell_type": "code",
   "execution_count": null,
   "id": "7fa8a8be",
   "metadata": {},
   "outputs": [],
   "source": []
  }
 ],
 "metadata": {
  "kernelspec": {
   "display_name": "Python 3 (ipykernel)",
   "language": "python",
   "name": "python3"
  },
  "language_info": {
   "codemirror_mode": {
    "name": "ipython",
    "version": 3
   },
   "file_extension": ".py",
   "mimetype": "text/x-python",
   "name": "python",
   "nbconvert_exporter": "python",
   "pygments_lexer": "ipython3",
   "version": "3.9.13"
  }
 },
 "nbformat": 4,
 "nbformat_minor": 5
}
