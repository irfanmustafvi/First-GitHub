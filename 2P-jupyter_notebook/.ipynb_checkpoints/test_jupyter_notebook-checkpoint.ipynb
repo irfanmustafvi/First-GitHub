{
 "cells": [
  {
   "cell_type": "markdown",
   "id": "5a5ba4b7",
   "metadata": {},
   "source": [
    "# Python ka chilla with baba ammar\n",
    "## How to use jupyter notebook?\n",
    "### Basics of Python\n",
    "#### 1-My_First_programm_with_python"
   ]
  },
  {
   "cell_type": "code",
   "execution_count": 1,
   "id": "1c245554",
   "metadata": {},
   "outputs": [
    {
     "name": "stdout",
     "output_type": "stream",
     "text": [
      "13\n",
      "Hello world\n",
      "We are learning python with Ammar\n"
     ]
    }
   ],
   "source": [
    "print(9+4)\n",
    "print(\"Hello world\")\n",
    "print(\"We are learning python with Ammar\")"
   ]
  },
  {
   "cell_type": "markdown",
   "id": "6464ca43",
   "metadata": {},
   "source": [
    "## 2-Operators"
   ]
  },
  {
   "cell_type": "code",
   "execution_count": 2,
   "id": "4f8af03b",
   "metadata": {},
   "outputs": [
    {
     "name": "stdout",
     "output_type": "stream",
     "text": [
      "12\n",
      "7\n",
      "27\n",
      "2.0\n",
      "4\n",
      "3.0\n",
      "36\n",
      "1\n",
      "128\n",
      "6.5\n"
     ]
    }
   ],
   "source": [
    "print(5+7)\n",
    "print(9-2)\n",
    "print(9*3)\n",
    "print(8/4)\n",
    "print(8//2)\n",
    "print(6/2)\n",
    "print(6**2)\n",
    "print(9%2)\n",
    "print(2**7)\n",
    "print(3**2/2*3/3+6-4)\n"
   ]
  },
  {
   "cell_type": "code",
   "execution_count": null,
   "id": "181755e1",
   "metadata": {},
   "outputs": [],
   "source": [
    "PEMDAS\n",
    "   (Parentheses)\n",
    "   Power_pr_Exponents\n",
    "   Multiply*\n",
    "   Divide /\n",
    "   Add    +\n",
    "   Subtract -"
   ]
  },
  {
   "cell_type": "markdown",
   "id": "0e2d1450",
   "metadata": {},
   "source": [
    "## 3-Stringe"
   ]
  },
  {
   "cell_type": "code",
   "execution_count": 4,
   "id": "b6d7ad28",
   "metadata": {},
   "outputs": [
    {
     "name": "stdout",
     "output_type": "stream",
     "text": [
      "strings_are_always_in_quotes\n",
      "Test for Single Quote\n",
      "Test for Double Quotes\n",
      "Test for Tripple Quotes\n"
     ]
    }
   ],
   "source": [
    "print(\"strings_are_always_in_quotes\")\n",
    "print('Test for Single Quote')\n",
    "print(\"Test for Double Quotes\")\n",
    "print('''Test for Tripple Quotes''') "
   ]
  },
  {
   "cell_type": "markdown",
   "id": "eb6ec2c1",
   "metadata": {},
   "source": [
    "## 4-Comments"
   ]
  },
  {
   "cell_type": "code",
   "execution_count": 5,
   "id": "08707cd9",
   "metadata": {},
   "outputs": [
    {
     "name": "stdout",
     "output_type": "stream",
     "text": [
      "How are you?\n",
      "Python with Ammar\n",
      "12\n"
     ]
    }
   ],
   "source": [
    "print(\"How are you?\")   # Press these two to Comment out Shift+/\n",
    "print(\"Python with Ammar\")  # Print String \n",
    "print(5+7) #  Print operators PEMDAS () power * Divide Addition  Subtraction"
   ]
  },
  {
   "cell_type": "markdown",
   "id": "7143fe66",
   "metadata": {},
   "source": [
    "## 5-Variables"
   ]
  },
  {
   "cell_type": "code",
   "execution_count": 6,
   "id": "f7d0f6bf",
   "metadata": {},
   "outputs": [
    {
     "name": "stdout",
     "output_type": "stream",
     "text": [
      "Variables are objects containing specific values\n",
      "5\n",
      "15\n",
      "<class 'int'>\n",
      "<class 'str'>\n",
      "<class 'int'>\n",
      "5\n"
     ]
    }
   ],
   "source": [
    "print(\"Variables are objects containing specific values\")\n",
    "x = 5   #   Numeric or Integer Variable\n",
    "print(x)\n",
    "y = \"Hello\" #   Stringe Variable\n",
    "x = x + 10\n",
    "print(x)\n",
    "\n",
    "# Types/Class of Vriables\n",
    "type(x)     # No Result\n",
    "print(type(x)) # Class Integer or Numbers\n",
    "print(type(y)) # Class String\n",
    "\n",
    "#   Rules to Assign a Variable\n",
    "# 1-Variable shouldc contain, numbers, letters, and underscores\n",
    "# 2-Do not start with numbers like (2x or 5y)\n",
    "# 3-Spaces are not Allowed\n",
    "# 4-Donot use keywords in functions\n",
    "# 5-Short & Descriptive\n",
    "# 6-Case sensitive (Always use lower case)\n",
    "\n",
    "fruit_basket=5\n",
    "print(type(fruit_basket))\n",
    "print(fruit_basket)"
   ]
  },
  {
   "cell_type": "markdown",
   "id": "c5014a1a",
   "metadata": {},
   "source": [
    "## 6-Input_Variables"
   ]
  },
  {
   "cell_type": "code",
   "execution_count": 7,
   "id": "0c89164a",
   "metadata": {},
   "outputs": [
    {
     "name": "stdout",
     "output_type": "stream",
     "text": [
      "<class 'str'>\n",
      "mangoes\n",
      "what is your favorite fruit? mango\n",
      "mango\n",
      "what is your name? ammar\n",
      "Hi ammar\n",
      "what is your name? zia\n",
      "Hello Brother zia\n",
      "what is your name? new\n",
      "how old are you? 15\n",
      "Hello new  ,Still you sre young\n"
     ]
    }
   ],
   "source": [
    "fruit_basket=\"mangoes\"\n",
    "print(type(fruit_basket))\n",
    "print(fruit_basket)\n",
    "\n",
    "# Input Function Simple\n",
    "fruit_basket=input(\"what is your favorite fruit? \")\n",
    "print(fruit_basket)\n",
    "\n",
    "# Input Fubction 2nd Stage\n",
    "name=input(\"what is your name? \")\n",
    "greetings=\"Hi\"\n",
    "print(greetings, name)\n",
    "\n",
    "# Another way of Stage 2 Input Function\n",
    "name=input(\"what is your name? \")\n",
    "print(\"Hello Brother\", name)\n",
    "\n",
    "# 3rd Stage Input Function\n",
    "name=input(\"what is your name? \")\n",
    "age=input(\"how old are you? \")\n",
    "greetings=\"Hello\"\n",
    "print(greetings, name , \" ,Still you sre young\")"
   ]
  },
  {
   "cell_type": "markdown",
   "id": "b02eb53c",
   "metadata": {},
   "source": [
    "## 7-Conditional_Logics"
   ]
  },
  {
   "cell_type": "code",
   "execution_count": 8,
   "id": "fcf00426",
   "metadata": {},
   "outputs": [
    {
     "name": "stdout",
     "output_type": "stream",
     "text": [
      "False\n",
      "True\n",
      "True\n",
      "False\n",
      "True\n",
      "False\n"
     ]
    }
   ],
   "source": [
    "# Logical Operators are True/False or Yes/No or 0/1\n",
    "# Equal to                      ==\n",
    "# Not equal to                  !=\n",
    "# Greater than                  >\n",
    "# Less than                     <\n",
    "# Greater Than or equal to      >=\n",
    "# Less than or equal to         <=\n",
    "\n",
    "print(5==6)\n",
    "print(6!=5)\n",
    "print(6<9)\n",
    "print(5>9)\n",
    "print(5<=5)\n",
    "print(5>=6)"
   ]
  },
  {
   "cell_type": "markdown",
   "id": "511e3723",
   "metadata": {},
   "source": [
    "## 8-Type_Conversion"
   ]
  },
  {
   "cell_type": "code",
   "execution_count": 9,
   "id": "139a27c4",
   "metadata": {},
   "outputs": [
    {
     "name": "stdout",
     "output_type": "stream",
     "text": [
      "<class 'float'>\n",
      "10.2 <class 'float'>\n",
      "112.2 type of x is: <class 'float'>\n",
      "what is your age? 50\n",
      "<class 'int'>\n",
      "what is your name? zia\n",
      "zia <class 'str'>\n"
     ]
    }
   ],
   "source": [
    "x=10.2          # integer\n",
    "y= 10           # Float\n",
    "z=\"Hello_world\" # Stringe\n",
    "y=x*y\n",
    "print(type(y))\n",
    "print(x, type(y))\n",
    "\n",
    "#   implicit type conversion\n",
    "x=x+y\n",
    "print(x, \"type of x is:\", type(x))\n",
    "\n",
    "#   Explicit type conversion\n",
    "age=input(\"what is your age? \")\n",
    "age=int(age)\n",
    "print(type(int(age)))\n",
    "\n",
    "#   Name\n",
    "name=input(\"what is your name? \")\n",
    "age=int(age)\n",
    "print(name, type(str(name)))"
   ]
  },
  {
   "cell_type": "markdown",
   "id": "a1ef0f8c",
   "metadata": {},
   "source": [
    "## 9-if_else_elif"
   ]
  },
  {
   "cell_type": "code",
   "execution_count": 17,
   "id": "3e1fc94f",
   "metadata": {},
   "outputs": [
    {
     "name": "stdout",
     "output_type": "stream",
     "text": [
      "Object `school` not found.\n",
      "True\n",
      "congtrats: hamaad can go to school\n"
     ]
    }
   ],
   "source": [
    "hamaad_age=5\n",
    "age_at_school=5\n",
    "Can hammad go to school?\n",
    "print(hamaad_age==age_at_school)\n",
    "\n",
    "if hamaad_age==age_at_school:\n",
    "    print(\"congtrats: hamaad can go to school\")\n",
    "elif hamaad_age > age_at_school:\n",
    "    print(\"hamaad should go to school\")\n",
    "elif hamaad_age == 2:\n",
    "    print(\"Take care of hamaad, as he is still baby\")\n",
    "else:\n",
    "    print(\"hamaad cannot go to school\")"
   ]
  },
  {
   "cell_type": "markdown",
   "id": "b341bc3f",
   "metadata": {},
   "source": [
    "## 10-Functions"
   ]
  },
  {
   "cell_type": "code",
   "execution_count": 20,
   "id": "599d8b27",
   "metadata": {},
   "outputs": [
    {
     "ename": "IndentationError",
     "evalue": "expected an indented block (2032524061.py, line 8)",
     "output_type": "error",
     "traceback": [
      "\u001b[1;36m  File \u001b[1;32m\"C:\\Users\\IRFAN\\AppData\\Local\\Temp\\ipykernel_13124\\2032524061.py\"\u001b[1;36m, line \u001b[1;32m8\u001b[0m\n\u001b[1;33m    print_irfan()\u001b[0m\n\u001b[1;37m    ^\u001b[0m\n\u001b[1;31mIndentationError\u001b[0m\u001b[1;31m:\u001b[0m expected an indented block\n"
     ]
    }
   ],
   "source": [
    "print(\"we are learnong python\")\n",
    "\n",
    "#   Defining a function\n",
    "# 1\n",
    "def print_irfan():\n",
    "#     print(\"we are learnong python\")\n",
    "#     print(\"we are learnong python\")\n",
    "print_irfan()\n",
    "\n",
    "# 2\n",
    "def print_irfan():\n",
    "text= \"we are learnong python\"\n",
    "print(text)\n",
    "print(text)\n",
    "print_irfan()\n",
    "\n",
    "# 3\n",
    "def print_irfan(text):\n",
    "print(text)\n",
    "print(text)\n",
    "print_irfan(\"we are learnong python\")\n",
    "\n",
    "# 4\n",
    "    def school_calculator(age, text):\n",
    "     if age==5:\n",
    "         print(\"hamaad can go to scool\")\n",
    "     elif age>5:\n",
    "         print(\"hamaad should go to higher school\")\n",
    "     else:\n",
    "         print(\"hamaad is still baby\")\n",
    "school_calculator(10, \"hamaad\")\n",
    "\n",
    "# Defining function of future\n",
    "def future_age(age):\n",
    "    new_age=age+25\n",
    "    return new_age\n",
    "    print(new_age)\n",
    "future_predicted_age=future_age(5)\n",
    "print(future_predicted_age)"
   ]
  },
  {
   "cell_type": "markdown",
   "id": "e1853420",
   "metadata": {},
   "source": [
    "## 11-Loops"
   ]
  },
  {
   "cell_type": "code",
   "execution_count": 21,
   "id": "f627e989",
   "metadata": {},
   "outputs": [],
   "source": [
    "# While loop and for loop\n",
    "\n",
    "# # while loop\n",
    "# x=2\n",
    "# while (x<5):\n",
    "#     print(x)\n",
    "#     x=x+1\n",
    "\n",
    "# # For loop\n",
    "# for x in range(10, 15):\n",
    "#     print(x)\n",
    "   \n",
    "# # Array\n",
    "# days=[\"Monday, Tue, Wed, Thu, Fri,,Sat, Sun\"]\n",
    "# for d in days:\n",
    "#     print(d)\n",
    "\n",
    "# days=[\"Mon\", \"Tue\", \"Wed\", \"Thu\", \"Fri\", \"Sat\", \"Sun\"]\n",
    "# for d in days:\n",
    "#     print(d)\n",
    "\n",
    "# days= [\"Mon\", \"Tue\", \"Wed\", \"Thu\", \"Fri\", \"Sat\", \"Sun\"]\n",
    "# for d in days:\n",
    "#     if (d==\"Fri\"):break # Loop stops\n",
    "#     print(d)"
   ]
  },
  {
   "cell_type": "markdown",
   "id": "28cc25b9",
   "metadata": {},
   "source": [
    "## 12-Import_Lib"
   ]
  },
  {
   "cell_type": "code",
   "execution_count": 22,
   "id": "ff1c0c8f",
   "metadata": {},
   "outputs": [
    {
     "data": {
      "text/html": [
       "<div>\n",
       "<style scoped>\n",
       "    .dataframe tbody tr th:only-of-type {\n",
       "        vertical-align: middle;\n",
       "    }\n",
       "\n",
       "    .dataframe tbody tr th {\n",
       "        vertical-align: top;\n",
       "    }\n",
       "\n",
       "    .dataframe thead th {\n",
       "        text-align: right;\n",
       "    }\n",
       "</style>\n",
       "<table border=\"1\" class=\"dataframe\">\n",
       "  <thead>\n",
       "    <tr style=\"text-align: right;\">\n",
       "      <th></th>\n",
       "      <th>sepal_length</th>\n",
       "      <th>sepal_width</th>\n",
       "      <th>petal_length</th>\n",
       "      <th>petal_width</th>\n",
       "      <th>species</th>\n",
       "    </tr>\n",
       "  </thead>\n",
       "  <tbody>\n",
       "    <tr>\n",
       "      <th>0</th>\n",
       "      <td>5.1</td>\n",
       "      <td>3.5</td>\n",
       "      <td>1.4</td>\n",
       "      <td>0.2</td>\n",
       "      <td>setosa</td>\n",
       "    </tr>\n",
       "    <tr>\n",
       "      <th>1</th>\n",
       "      <td>4.9</td>\n",
       "      <td>3.0</td>\n",
       "      <td>1.4</td>\n",
       "      <td>0.2</td>\n",
       "      <td>setosa</td>\n",
       "    </tr>\n",
       "    <tr>\n",
       "      <th>2</th>\n",
       "      <td>4.7</td>\n",
       "      <td>3.2</td>\n",
       "      <td>1.3</td>\n",
       "      <td>0.2</td>\n",
       "      <td>setosa</td>\n",
       "    </tr>\n",
       "    <tr>\n",
       "      <th>3</th>\n",
       "      <td>4.6</td>\n",
       "      <td>3.1</td>\n",
       "      <td>1.5</td>\n",
       "      <td>0.2</td>\n",
       "      <td>setosa</td>\n",
       "    </tr>\n",
       "    <tr>\n",
       "      <th>4</th>\n",
       "      <td>5.0</td>\n",
       "      <td>3.6</td>\n",
       "      <td>1.4</td>\n",
       "      <td>0.2</td>\n",
       "      <td>setosa</td>\n",
       "    </tr>\n",
       "    <tr>\n",
       "      <th>...</th>\n",
       "      <td>...</td>\n",
       "      <td>...</td>\n",
       "      <td>...</td>\n",
       "      <td>...</td>\n",
       "      <td>...</td>\n",
       "    </tr>\n",
       "    <tr>\n",
       "      <th>145</th>\n",
       "      <td>6.7</td>\n",
       "      <td>3.0</td>\n",
       "      <td>5.2</td>\n",
       "      <td>2.3</td>\n",
       "      <td>virginica</td>\n",
       "    </tr>\n",
       "    <tr>\n",
       "      <th>146</th>\n",
       "      <td>6.3</td>\n",
       "      <td>2.5</td>\n",
       "      <td>5.0</td>\n",
       "      <td>1.9</td>\n",
       "      <td>virginica</td>\n",
       "    </tr>\n",
       "    <tr>\n",
       "      <th>147</th>\n",
       "      <td>6.5</td>\n",
       "      <td>3.0</td>\n",
       "      <td>5.2</td>\n",
       "      <td>2.0</td>\n",
       "      <td>virginica</td>\n",
       "    </tr>\n",
       "    <tr>\n",
       "      <th>148</th>\n",
       "      <td>6.2</td>\n",
       "      <td>3.4</td>\n",
       "      <td>5.4</td>\n",
       "      <td>2.3</td>\n",
       "      <td>virginica</td>\n",
       "    </tr>\n",
       "    <tr>\n",
       "      <th>149</th>\n",
       "      <td>5.9</td>\n",
       "      <td>3.0</td>\n",
       "      <td>5.1</td>\n",
       "      <td>1.8</td>\n",
       "      <td>virginica</td>\n",
       "    </tr>\n",
       "  </tbody>\n",
       "</table>\n",
       "<p>150 rows × 5 columns</p>\n",
       "</div>"
      ],
      "text/plain": [
       "     sepal_length  sepal_width  petal_length  petal_width    species\n",
       "0             5.1          3.5           1.4          0.2     setosa\n",
       "1             4.9          3.0           1.4          0.2     setosa\n",
       "2             4.7          3.2           1.3          0.2     setosa\n",
       "3             4.6          3.1           1.5          0.2     setosa\n",
       "4             5.0          3.6           1.4          0.2     setosa\n",
       "..            ...          ...           ...          ...        ...\n",
       "145           6.7          3.0           5.2          2.3  virginica\n",
       "146           6.3          2.5           5.0          1.9  virginica\n",
       "147           6.5          3.0           5.2          2.0  virginica\n",
       "148           6.2          3.4           5.4          2.3  virginica\n",
       "149           5.9          3.0           5.1          1.8  virginica\n",
       "\n",
       "[150 rows x 5 columns]"
      ]
     },
     "execution_count": 22,
     "metadata": {},
     "output_type": "execute_result"
    }
   ],
   "source": [
    "# if we want to print thr value of Pi\n",
    "\n",
    "# import math\n",
    "# print(\"value of pi is\", math.pi )\n",
    "\n",
    "# import statistics\n",
    "# x=[150, 450, 850, 950, 650]\n",
    "# print(statistics.mean(x))\n",
    "\n",
    "# numpy, pamdas\n",
    "\n",
    "# import pandas as pd\n",
    "# import numpy as np\n",
    "# import matplotlib.pyplot as ply\n",
    "import seaborn as sns\n",
    "\n",
    "# import dataset\n",
    "sns.load_dataset(\"iris\")"
   ]
  },
  {
   "cell_type": "markdown",
   "id": "90a1b984",
   "metadata": {},
   "source": [
    "## 13-Troubleshooting"
   ]
  },
  {
   "cell_type": "code",
   "execution_count": 24,
   "id": "cbf7a2d4",
   "metadata": {},
   "outputs": [
    {
     "name": "stdout",
     "output_type": "stream",
     "text": [
      "hello ammar\n"
     ]
    }
   ],
   "source": [
    "# 1\n",
    "# print(\"we are learning python\") # If commas or quotes are not used than syntax error rises.\n",
    "\n",
    "# 2\n",
    "# print(25/0)  # Runtime error \n",
    "\n",
    "# 3\n",
    "name=\"ammar\"\n",
    "# print(\"hello name\") # Symantic error (This is our mistake)\n",
    "print(\"hello\", name)"
   ]
  },
  {
   "cell_type": "code",
   "execution_count": null,
   "id": "30e375ed",
   "metadata": {},
   "outputs": [],
   "source": []
  }
 ],
 "metadata": {
  "kernelspec": {
   "display_name": "Python 3 (ipykernel)",
   "language": "python",
   "name": "python3"
  },
  "language_info": {
   "codemirror_mode": {
    "name": "ipython",
    "version": 3
   },
   "file_extension": ".py",
   "mimetype": "text/x-python",
   "name": "python",
   "nbconvert_exporter": "python",
   "pygments_lexer": "ipython3",
   "version": "3.9.13"
  }
 },
 "nbformat": 4,
 "nbformat_minor": 5
}
