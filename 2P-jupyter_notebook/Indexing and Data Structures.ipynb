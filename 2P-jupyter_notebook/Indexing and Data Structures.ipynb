{
 "cells": [
  {
   "cell_type": "markdown",
   "id": "f734b971",
   "metadata": {},
   "source": [
    "# -Indexing"
   ]
  },
  {
   "cell_type": "code",
   "execution_count": 1,
   "id": "98b1f3d5",
   "metadata": {},
   "outputs": [
    {
     "data": {
      "text/plain": [
       "'samosa, pakora'"
      ]
     },
     "execution_count": 1,
     "metadata": {},
     "output_type": "execute_result"
    }
   ],
   "source": [
    "# make a string\n",
    "a = 'samosa, pakora'\n",
    "a"
   ]
  },
  {
   "cell_type": "code",
   "execution_count": 2,
   "id": "d0e30634",
   "metadata": {},
   "outputs": [
    {
     "data": {
      "text/plain": [
       "'samosa, pakora'"
      ]
     },
     "execution_count": 2,
     "metadata": {},
     "output_type": "execute_result"
    }
   ],
   "source": [
    "a"
   ]
  },
  {
   "cell_type": "code",
   "execution_count": 3,
   "id": "f858bacc",
   "metadata": {},
   "outputs": [
    {
     "data": {
      "text/plain": [
       "14"
      ]
     },
     "execution_count": 3,
     "metadata": {},
     "output_type": "execute_result"
    }
   ],
   "source": [
    "# length of indecis\n",
    "len(a)\n"
   ]
  },
  {
   "cell_type": "code",
   "execution_count": 4,
   "id": "f2459d15",
   "metadata": {},
   "outputs": [
    {
     "data": {
      "text/plain": [
       "'samosa'"
      ]
     },
     "execution_count": 4,
     "metadata": {},
     "output_type": "execute_result"
    }
   ],
   "source": [
    "# exclusive element is the last one\n",
    "a[0:6]"
   ]
  },
  {
   "cell_type": "code",
   "execution_count": 5,
   "id": "058f2031",
   "metadata": {},
   "outputs": [
    {
     "data": {
      "text/plain": [
       "'k'"
      ]
     },
     "execution_count": 5,
     "metadata": {},
     "output_type": "execute_result"
    }
   ],
   "source": [
    "a[-4]"
   ]
  },
  {
   "cell_type": "code",
   "execution_count": 6,
   "id": "136fc597",
   "metadata": {},
   "outputs": [
    {
     "data": {
      "text/plain": [
       "'akor'"
      ]
     },
     "execution_count": 6,
     "metadata": {},
     "output_type": "execute_result"
    }
   ],
   "source": [
    "a[-5:-1]"
   ]
  },
  {
   "cell_type": "code",
   "execution_count": 7,
   "id": "4f5b2bd5",
   "metadata": {},
   "outputs": [
    {
     "data": {
      "text/plain": [
       "'biryani'"
      ]
     },
     "execution_count": 7,
     "metadata": {},
     "output_type": "execute_result"
    }
   ],
   "source": [
    "food=\"biryani\"\n",
    "food"
   ]
  },
  {
   "cell_type": "markdown",
   "id": "23349eea",
   "metadata": {},
   "source": [
    "# String Methods"
   ]
  },
  {
   "cell_type": "code",
   "execution_count": 8,
   "id": "fe5555c4",
   "metadata": {},
   "outputs": [
    {
     "data": {
      "text/plain": [
       "'biryani'"
      ]
     },
     "execution_count": 8,
     "metadata": {},
     "output_type": "execute_result"
    }
   ],
   "source": [
    "food"
   ]
  },
  {
   "cell_type": "code",
   "execution_count": 9,
   "id": "f5ca9985",
   "metadata": {},
   "outputs": [
    {
     "data": {
      "text/plain": [
       "7"
      ]
     },
     "execution_count": 9,
     "metadata": {},
     "output_type": "execute_result"
    }
   ],
   "source": [
    "len(food)"
   ]
  },
  {
   "cell_type": "code",
   "execution_count": 10,
   "id": "68a36f88",
   "metadata": {},
   "outputs": [
    {
     "data": {
      "text/plain": [
       "'Biryani'"
      ]
     },
     "execution_count": 10,
     "metadata": {},
     "output_type": "execute_result"
    }
   ],
   "source": [
    "# capitalize first letter\n",
    "food.capitalize()"
   ]
  },
  {
   "cell_type": "code",
   "execution_count": 11,
   "id": "0223452d",
   "metadata": {},
   "outputs": [
    {
     "data": {
      "text/plain": [
       "'BIRYANI'"
      ]
     },
     "execution_count": 11,
     "metadata": {},
     "output_type": "execute_result"
    }
   ],
   "source": [
    "# all converts uppercase\n",
    "food.upper()"
   ]
  },
  {
   "cell_type": "code",
   "execution_count": 12,
   "id": "a8fa553e",
   "metadata": {},
   "outputs": [
    {
     "data": {
      "text/plain": [
       "'biryani'"
      ]
     },
     "execution_count": 12,
     "metadata": {},
     "output_type": "execute_result"
    }
   ],
   "source": [
    "# converts to lowercase\n",
    "food.lower()"
   ]
  },
  {
   "cell_type": "code",
   "execution_count": 13,
   "id": "fe747f7e",
   "metadata": {},
   "outputs": [
    {
     "data": {
      "text/plain": [
       "'shiryani'"
      ]
     },
     "execution_count": 13,
     "metadata": {},
     "output_type": "execute_result"
    }
   ],
   "source": [
    "# replace\n",
    "food.replace('b', 'sh')"
   ]
  },
  {
   "cell_type": "code",
   "execution_count": 14,
   "id": "b34cafd8",
   "metadata": {},
   "outputs": [
    {
     "data": {
      "text/plain": [
       "'baba_ammar with dr Tufail'"
      ]
     },
     "execution_count": 14,
     "metadata": {},
     "output_type": "execute_result"
    }
   ],
   "source": [
    "# counting a specific alphabet in string\n",
    "name = 'baba_ammar with dr Tufail'\n",
    "name"
   ]
  },
  {
   "cell_type": "code",
   "execution_count": 15,
   "id": "0601a6ee",
   "metadata": {},
   "outputs": [
    {
     "data": {
      "text/plain": [
       "2"
      ]
     },
     "execution_count": 15,
     "metadata": {},
     "output_type": "execute_result"
    }
   ],
   "source": [
    "# specific count function\n",
    "name.count('b')"
   ]
  },
  {
   "cell_type": "markdown",
   "id": "eb2efb48",
   "metadata": {},
   "source": [
    "## Finding an index number in string"
   ]
  },
  {
   "cell_type": "code",
   "execution_count": 16,
   "id": "0a3c97c3",
   "metadata": {},
   "outputs": [
    {
     "data": {
      "text/plain": [
       "'baba_ammar with dr Tufail'"
      ]
     },
     "execution_count": 16,
     "metadata": {},
     "output_type": "execute_result"
    }
   ],
   "source": [
    "name = 'baba_ammar with dr Tufail'\n",
    "name"
   ]
  },
  {
   "cell_type": "code",
   "execution_count": 17,
   "id": "fec71e69",
   "metadata": {},
   "outputs": [
    {
     "data": {
      "text/plain": [
       "21"
      ]
     },
     "execution_count": 17,
     "metadata": {},
     "output_type": "execute_result"
    }
   ],
   "source": [
    "name.find('f')"
   ]
  },
  {
   "cell_type": "code",
   "execution_count": 18,
   "id": "9b16ea7a",
   "metadata": {},
   "outputs": [
    {
     "data": {
      "text/plain": [
       "8"
      ]
     },
     "execution_count": 18,
     "metadata": {},
     "output_type": "execute_result"
    }
   ],
   "source": [
    "name.find('ar')"
   ]
  },
  {
   "cell_type": "markdown",
   "id": "f245c0b3",
   "metadata": {},
   "source": [
    "## How to split a string"
   ]
  },
  {
   "cell_type": "code",
   "execution_count": 19,
   "id": "43fcf618",
   "metadata": {},
   "outputs": [
    {
     "data": {
      "text/plain": [
       "'I love samosa, pakora, biryani, and etc'"
      ]
     },
     "execution_count": 19,
     "metadata": {},
     "output_type": "execute_result"
    }
   ],
   "source": [
    "food='I love samosa, pakora, biryani, and etc'\n",
    "food"
   ]
  },
  {
   "cell_type": "code",
   "execution_count": 20,
   "id": "3d21c327",
   "metadata": {},
   "outputs": [
    {
     "data": {
      "text/plain": [
       "['I love samosa', ' pakora', ' biryani', ' and etc']"
      ]
     },
     "execution_count": 20,
     "metadata": {},
     "output_type": "execute_result"
    }
   ],
   "source": [
    "food.split(',')"
   ]
  },
  {
   "cell_type": "markdown",
   "id": "f785f5e7",
   "metadata": {},
   "source": [
    "## Basic Data Structure in Python\n",
    "\n",
    "#### 1-Tupple\n",
    "#### 2-List\n",
    "#### 3-Dictionaries\n",
    "#### 4-Set"
   ]
  },
  {
   "cell_type": "markdown",
   "id": "bbfc113b",
   "metadata": {},
   "source": [
    "## 1-Tupple\n",
    "- Ordered collection of elemets \n",
    "- Enclosed in round () braces or parentheses\n",
    "- Different kind of element can be stored\n",
    "- Once elements are stored and you cannot change them or unmuyatable"
   ]
  },
  {
   "cell_type": "code",
   "execution_count": 21,
   "id": "790d228f",
   "metadata": {},
   "outputs": [
    {
     "data": {
      "text/plain": [
       "(1, 'python', 'true', 2.5)"
      ]
     },
     "execution_count": 21,
     "metadata": {},
     "output_type": "execute_result"
    }
   ],
   "source": [
    "tup1=(1, 'python','true', 2.5 )\n",
    "tup1"
   ]
  },
  {
   "cell_type": "code",
   "execution_count": 22,
   "id": "441298ff",
   "metadata": {},
   "outputs": [
    {
     "data": {
      "text/plain": [
       "tuple"
      ]
     },
     "execution_count": 22,
     "metadata": {},
     "output_type": "execute_result"
    }
   ],
   "source": [
    "# type of a tuple like table\n",
    "type(tup1)"
   ]
  },
  {
   "cell_type": "markdown",
   "id": "30e02f2f",
   "metadata": {},
   "source": [
    "### -Indexing in tuple"
   ]
  },
  {
   "cell_type": "code",
   "execution_count": 23,
   "id": "d84ff8b4",
   "metadata": {},
   "outputs": [
    {
     "data": {
      "text/plain": [
       "'python'"
      ]
     },
     "execution_count": 23,
     "metadata": {},
     "output_type": "execute_result"
    }
   ],
   "source": [
    "tup1[1]"
   ]
  },
  {
   "cell_type": "code",
   "execution_count": 24,
   "id": "49cea569",
   "metadata": {},
   "outputs": [
    {
     "data": {
      "text/plain": [
       "'true'"
      ]
     },
     "execution_count": 24,
     "metadata": {},
     "output_type": "execute_result"
    }
   ],
   "source": [
    "tup1[2]"
   ]
  },
  {
   "cell_type": "code",
   "execution_count": 25,
   "id": "37f2b1ce",
   "metadata": {},
   "outputs": [
    {
     "data": {
      "text/plain": [
       "1"
      ]
     },
     "execution_count": 25,
     "metadata": {},
     "output_type": "execute_result"
    }
   ],
   "source": [
    "tup1[0]"
   ]
  },
  {
   "cell_type": "code",
   "execution_count": 26,
   "id": "8c9f7843",
   "metadata": {},
   "outputs": [
    {
     "data": {
      "text/plain": [
       "(1, 'python', 'true', 2.5)"
      ]
     },
     "execution_count": 26,
     "metadata": {},
     "output_type": "execute_result"
    }
   ],
   "source": [
    "# last element is exclusive\n",
    "tup1[0:4]"
   ]
  },
  {
   "cell_type": "code",
   "execution_count": 27,
   "id": "ff97fd1c",
   "metadata": {},
   "outputs": [
    {
     "data": {
      "text/plain": [
       "4"
      ]
     },
     "execution_count": 27,
     "metadata": {},
     "output_type": "execute_result"
    }
   ],
   "source": [
    "# count of element in tuple\n",
    "len(tup1)"
   ]
  },
  {
   "cell_type": "code",
   "execution_count": 28,
   "id": "26e94af0",
   "metadata": {},
   "outputs": [
    {
     "data": {
      "text/plain": [
       "(2, 'babaamar', 3.5, 'false')"
      ]
     },
     "execution_count": 28,
     "metadata": {},
     "output_type": "execute_result"
    }
   ],
   "source": [
    "tup2 = (2, 'babaamar', 3.5, 'false')\n",
    "tup2"
   ]
  },
  {
   "cell_type": "code",
   "execution_count": 29,
   "id": "dcb0e261",
   "metadata": {},
   "outputs": [
    {
     "data": {
      "text/plain": [
       "(1, 'python', 'true', 2.5, 2, 'babaamar', 3.5, 'false')"
      ]
     },
     "execution_count": 29,
     "metadata": {},
     "output_type": "execute_result"
    }
   ],
   "source": [
    "# Concatinate OR Plus two or more tuples\n",
    "tup1 + tup2"
   ]
  },
  {
   "cell_type": "code",
   "execution_count": 30,
   "id": "972fcde6",
   "metadata": {},
   "outputs": [
    {
     "data": {
      "text/plain": [
       "(1,\n",
       " 'python',\n",
       " 'true',\n",
       " 2.5,\n",
       " 1,\n",
       " 'python',\n",
       " 'true',\n",
       " 2.5,\n",
       " 2,\n",
       " 'babaamar',\n",
       " 3.5,\n",
       " 'false')"
      ]
     },
     "execution_count": 30,
     "metadata": {},
     "output_type": "execute_result"
    }
   ],
   "source": [
    "# Concatinate + repeate\n",
    "tup1*2 + tup2"
   ]
  },
  {
   "cell_type": "code",
   "execution_count": 31,
   "id": "e6a55ec4",
   "metadata": {},
   "outputs": [
    {
     "data": {
      "text/plain": [
       "(25, 81, 13, 21, 10, 61)"
      ]
     },
     "execution_count": 31,
     "metadata": {},
     "output_type": "execute_result"
    }
   ],
   "source": [
    "tup3 = (25, 81, 13, 21, 10, 61)\n",
    "tup3"
   ]
  },
  {
   "cell_type": "code",
   "execution_count": 32,
   "id": "1a5be505",
   "metadata": {},
   "outputs": [
    {
     "data": {
      "text/plain": [
       "10"
      ]
     },
     "execution_count": 32,
     "metadata": {},
     "output_type": "execute_result"
    }
   ],
   "source": [
    "min(tup3)"
   ]
  },
  {
   "cell_type": "code",
   "execution_count": 33,
   "id": "f4000e4f",
   "metadata": {},
   "outputs": [
    {
     "data": {
      "text/plain": [
       "81"
      ]
     },
     "execution_count": 33,
     "metadata": {},
     "output_type": "execute_result"
    }
   ],
   "source": [
    "max(tup3)"
   ]
  },
  {
   "cell_type": "code",
   "execution_count": 34,
   "id": "9587ff74",
   "metadata": {},
   "outputs": [
    {
     "data": {
      "text/plain": [
       "(25, 81, 13, 21, 10, 61, 25, 81, 13, 21, 10, 61, 25, 81, 13, 21, 10, 61)"
      ]
     },
     "execution_count": 34,
     "metadata": {},
     "output_type": "execute_result"
    }
   ],
   "source": [
    "# Repeatation\n",
    "tup3*3"
   ]
  },
  {
   "cell_type": "markdown",
   "id": "d30ad7c2",
   "metadata": {},
   "source": [
    "---"
   ]
  },
  {
   "cell_type": "markdown",
   "id": "1d25ee57",
   "metadata": {},
   "source": [
    "## 2-Lists\n",
    "\n",
    "- Ordered collection of elements\n",
    "- Enclosed in [ ] square brackets\n",
    "- Mitatable means you can change the values"
   ]
  },
  {
   "cell_type": "code",
   "execution_count": 35,
   "id": "9eec89de",
   "metadata": {},
   "outputs": [
    {
     "data": {
      "text/plain": [
       "[2, 'babaamar', 'False']"
      ]
     },
     "execution_count": 35,
     "metadata": {},
     "output_type": "execute_result"
    }
   ],
   "source": [
    "list1=[2, 'babaamar', 'False']\n",
    "list1"
   ]
  },
  {
   "cell_type": "code",
   "execution_count": 36,
   "id": "ad9d420b",
   "metadata": {},
   "outputs": [
    {
     "data": {
      "text/plain": [
       "list"
      ]
     },
     "execution_count": 36,
     "metadata": {},
     "output_type": "execute_result"
    }
   ],
   "source": [
    "type(list1)"
   ]
  },
  {
   "cell_type": "code",
   "execution_count": 37,
   "id": "1bdb9898",
   "metadata": {},
   "outputs": [
    {
     "data": {
      "text/plain": [
       "3"
      ]
     },
     "execution_count": 37,
     "metadata": {},
     "output_type": "execute_result"
    }
   ],
   "source": [
    "len(list1)"
   ]
  },
  {
   "cell_type": "code",
   "execution_count": 38,
   "id": "fb12306a",
   "metadata": {},
   "outputs": [
    {
     "data": {
      "text/plain": [
       "'False'"
      ]
     },
     "execution_count": 38,
     "metadata": {},
     "output_type": "execute_result"
    }
   ],
   "source": [
    "list1[2]"
   ]
  },
  {
   "cell_type": "code",
   "execution_count": 39,
   "id": "bb9f9021",
   "metadata": {},
   "outputs": [
    {
     "data": {
      "text/plain": [
       "[2, 5, 8, 'ammar', 'codanics', 5.5, 'apple']"
      ]
     },
     "execution_count": 39,
     "metadata": {},
     "output_type": "execute_result"
    }
   ],
   "source": [
    "list2=[2, 5, 8, \"ammar\", \"codanics\", 5.5, \"apple\"]\n",
    "list2"
   ]
  },
  {
   "cell_type": "code",
   "execution_count": 40,
   "id": "ba6811ab",
   "metadata": {},
   "outputs": [
    {
     "data": {
      "text/plain": [
       "[2, 'babaamar', 'False', 2, 5, 8, 'ammar', 'codanics', 5.5, 'apple']"
      ]
     },
     "execution_count": 40,
     "metadata": {},
     "output_type": "execute_result"
    }
   ],
   "source": [
    "list1+list2"
   ]
  },
  {
   "cell_type": "code",
   "execution_count": 41,
   "id": "2e988de8",
   "metadata": {},
   "outputs": [
    {
     "data": {
      "text/plain": [
       "[2, 'babaamar', 'False', 2, 5, 8, 'ammar', 'codanics', 5.5, 'apple']"
      ]
     },
     "execution_count": 41,
     "metadata": {},
     "output_type": "execute_result"
    }
   ],
   "source": [
    "list3=[2, 'babaamar', 'False', 2, 5, 8, 'ammar', 'codanics', 5.5, 'apple']\n",
    "list3"
   ]
  },
  {
   "cell_type": "code",
   "execution_count": 42,
   "id": "80cf8774",
   "metadata": {},
   "outputs": [
    {
     "data": {
      "text/plain": [
       "[2, 'babaamar', 'False', 2, 'babaamar', 'False']"
      ]
     },
     "execution_count": 42,
     "metadata": {},
     "output_type": "execute_result"
    }
   ],
   "source": [
    "list1*2"
   ]
  },
  {
   "cell_type": "code",
   "execution_count": 43,
   "id": "2df8c49c",
   "metadata": {},
   "outputs": [
    {
     "data": {
      "text/plain": [
       "[2, 'babaamar', 'False']"
      ]
     },
     "execution_count": 43,
     "metadata": {},
     "output_type": "execute_result"
    }
   ],
   "source": [
    "list1"
   ]
  },
  {
   "cell_type": "code",
   "execution_count": 44,
   "id": "1e1f1adc",
   "metadata": {},
   "outputs": [
    {
     "data": {
      "text/plain": [
       "['False', 'babaamar', 2]"
      ]
     },
     "execution_count": 44,
     "metadata": {},
     "output_type": "execute_result"
    }
   ],
   "source": [
    "list1.reverse()\n",
    "list1"
   ]
  },
  {
   "cell_type": "code",
   "execution_count": 45,
   "id": "7da49f3a",
   "metadata": {},
   "outputs": [
    {
     "data": {
      "text/plain": [
       "['False', 'babaamar', 2, 'codenics']"
      ]
     },
     "execution_count": 45,
     "metadata": {},
     "output_type": "execute_result"
    }
   ],
   "source": [
    "list1.append('codenics')\n",
    "list1"
   ]
  },
  {
   "cell_type": "code",
   "execution_count": 46,
   "id": "e8804a4e",
   "metadata": {},
   "outputs": [
    {
     "data": {
      "text/plain": [
       "[58, 65, 25, 23, 43, 11, 98, 58, 56, 48]"
      ]
     },
     "execution_count": 46,
     "metadata": {},
     "output_type": "execute_result"
    }
   ],
   "source": [
    "list4=[58, 65, 25, 23, 43, 11, 98, 58, 56, 48]\n",
    "list4"
   ]
  },
  {
   "cell_type": "code",
   "execution_count": 47,
   "id": "f11daab2",
   "metadata": {},
   "outputs": [
    {
     "data": {
      "text/plain": [
       "[11, 23, 25, 43, 48, 56, 58, 58, 65, 98]"
      ]
     },
     "execution_count": 47,
     "metadata": {},
     "output_type": "execute_result"
    }
   ],
   "source": [
    "# sorting a list\n",
    "list4.sort()\n",
    "list4"
   ]
  },
  {
   "cell_type": "code",
   "execution_count": 48,
   "id": "feca8df3",
   "metadata": {},
   "outputs": [
    {
     "data": {
      "text/plain": [
       "[11, 23, 25, 43, 48, 56, 58, 58, 65, 98, 91]"
      ]
     },
     "execution_count": 48,
     "metadata": {},
     "output_type": "execute_result"
    }
   ],
   "source": [
    "list4.insert( 80, 91)\n",
    "list4"
   ]
  },
  {
   "cell_type": "code",
   "execution_count": 49,
   "id": "463989c1",
   "metadata": {},
   "outputs": [
    {
     "data": {
      "text/plain": [
       "11"
      ]
     },
     "execution_count": 49,
     "metadata": {},
     "output_type": "execute_result"
    }
   ],
   "source": [
    "len(list4)"
   ]
  },
  {
   "cell_type": "code",
   "execution_count": 50,
   "id": "530d2f8e",
   "metadata": {},
   "outputs": [
    {
     "data": {
      "text/plain": [
       "[]"
      ]
     },
     "execution_count": 50,
     "metadata": {},
     "output_type": "execute_result"
    }
   ],
   "source": [
    "list4*0"
   ]
  },
  {
   "cell_type": "markdown",
   "id": "38de01f8",
   "metadata": {},
   "source": [
    "## 3-Dictionaries\n",
    "\n",
    "- An unordered collection of elements\n",
    "- It have key and value \n",
    "- Enclosed in { } curley brackets\n",
    "- Mutatable means you can change the values"
   ]
  },
  {
   "cell_type": "code",
   "execution_count": 51,
   "id": "a60166b8",
   "metadata": {},
   "outputs": [
    {
     "data": {
      "text/plain": [
       "{'samos': 10, 'pakora': 100, 'raita': 20, 'salad': 20, 'chocken rols': 30}"
      ]
     },
     "execution_count": 51,
     "metadata": {},
     "output_type": "execute_result"
    }
   ],
   "source": [
    "#food and prices\n",
    "food1={'samos':10, 'pakora':100, 'raita':20,'salad':20,'chocken rols':30}\n",
    "food1"
   ]
  },
  {
   "cell_type": "code",
   "execution_count": 52,
   "id": "d4f70803",
   "metadata": {},
   "outputs": [
    {
     "data": {
      "text/plain": [
       "dict"
      ]
     },
     "execution_count": 52,
     "metadata": {},
     "output_type": "execute_result"
    }
   ],
   "source": [
    "type(food1)"
   ]
  },
  {
   "cell_type": "code",
   "execution_count": 53,
   "id": "ecbb8ab3",
   "metadata": {},
   "outputs": [
    {
     "data": {
      "text/plain": [
       "dict_keys(['samos', 'pakora', 'raita', 'salad', 'chocken rols'])"
      ]
     },
     "execution_count": 53,
     "metadata": {},
     "output_type": "execute_result"
    }
   ],
   "source": [
    "# extract data\n",
    "food1.keys()"
   ]
  },
  {
   "cell_type": "code",
   "execution_count": 54,
   "id": "b65ba6af",
   "metadata": {},
   "outputs": [
    {
     "data": {
      "text/plain": [
       "dict_values([10, 100, 20, 20, 30])"
      ]
     },
     "execution_count": 54,
     "metadata": {},
     "output_type": "execute_result"
    }
   ],
   "source": [
    "food1.values()"
   ]
  },
  {
   "cell_type": "code",
   "execution_count": 55,
   "id": "e925876f",
   "metadata": {},
   "outputs": [
    {
     "data": {
      "text/plain": [
       "{'samos': 10,\n",
       " 'pakora': 100,\n",
       " 'raita': 20,\n",
       " 'salad': 20,\n",
       " 'chocken rols': 30,\n",
       " 'tikki': 50}"
      ]
     },
     "execution_count": 55,
     "metadata": {},
     "output_type": "execute_result"
    }
   ],
   "source": [
    "# adding new element or item\n",
    "food1['tikki']=50\n",
    "food1"
   ]
  },
  {
   "cell_type": "code",
   "execution_count": 56,
   "id": "8d072966",
   "metadata": {},
   "outputs": [
    {
     "data": {
      "text/plain": [
       "{'samos': 10,\n",
       " 'pakora': 100,\n",
       " 'raita': 20,\n",
       " 'salad': 20,\n",
       " 'chocken rols': 30,\n",
       " 'tikki': 60}"
      ]
     },
     "execution_count": 56,
     "metadata": {},
     "output_type": "execute_result"
    }
   ],
   "source": [
    "# update the values\n",
    "food1['tikki']=60\n",
    "food1"
   ]
  },
  {
   "cell_type": "code",
   "execution_count": 57,
   "id": "e4da5052",
   "metadata": {},
   "outputs": [
    {
     "data": {
      "text/plain": [
       "{'dates': 100, 'sivayan': 100, 'chogo;ate': 210}"
      ]
     },
     "execution_count": 57,
     "metadata": {},
     "output_type": "execute_result"
    }
   ],
   "source": [
    "food2={'dates':100, 'sivayan':100, 'chogo;ate':210}\n",
    "food2"
   ]
  },
  {
   "cell_type": "code",
   "execution_count": 58,
   "id": "0c4c145c",
   "metadata": {},
   "outputs": [],
   "source": [
    "# concatinate\n",
    "food1.update(food2)"
   ]
  },
  {
   "cell_type": "code",
   "execution_count": 59,
   "id": "c73e19e8",
   "metadata": {},
   "outputs": [
    {
     "data": {
      "text/plain": [
       "{'samos': 10,\n",
       " 'pakora': 100,\n",
       " 'raita': 20,\n",
       " 'salad': 20,\n",
       " 'chocken rols': 30,\n",
       " 'tikki': 60,\n",
       " 'dates': 100,\n",
       " 'sivayan': 100,\n",
       " 'chogo;ate': 210}"
      ]
     },
     "execution_count": 59,
     "metadata": {},
     "output_type": "execute_result"
    }
   ],
   "source": [
    "food1"
   ]
  },
  {
   "cell_type": "markdown",
   "id": "e9e9aeee",
   "metadata": {},
   "source": [
    "## 4-Sets\n",
    "\n",
    "- UnOrdered and unindexed collection of elements (stringe, integer, float number)\n",
    "- Use with {} curly brackets\n",
    "- Duplicates are not allowed\n",
    "- Boolean cannot be added & this won't be print\n"
   ]
  },
  {
   "cell_type": "code",
   "execution_count": 60,
   "id": "e0ad9e6b",
   "metadata": {},
   "outputs": [
    {
     "data": {
      "text/plain": [
       "{4, 54, 8, 95, 'asad', 'asad25', 'faisalabad', 'qwerty'}"
      ]
     },
     "execution_count": 60,
     "metadata": {},
     "output_type": "execute_result"
    }
   ],
   "source": [
    "s1={54, 4, 8, 95, 'asad', 'qwerty', 'asad25', 'faisalabad'}\n",
    "s1"
   ]
  },
  {
   "cell_type": "code",
   "execution_count": 61,
   "id": "cd89db21",
   "metadata": {},
   "outputs": [],
   "source": [
    "s1.add('codenics')"
   ]
  },
  {
   "cell_type": "code",
   "execution_count": 62,
   "id": "f27eaa09",
   "metadata": {},
   "outputs": [
    {
     "data": {
      "text/plain": [
       "{4, 54, 8, 95, 'asad', 'asad25', 'codenics', 'faisalabad', 'qwerty'}"
      ]
     },
     "execution_count": 62,
     "metadata": {},
     "output_type": "execute_result"
    }
   ],
   "source": [
    "s1"
   ]
  },
  {
   "cell_type": "code",
   "execution_count": 63,
   "id": "2ac28272",
   "metadata": {},
   "outputs": [
    {
     "data": {
      "text/plain": [
       "{4, 54, 8, 95, 'asad', 'codenics', 'faisalabad', 'qwerty'}"
      ]
     },
     "execution_count": 63,
     "metadata": {},
     "output_type": "execute_result"
    }
   ],
   "source": [
    "s1.remove('asad25')\n",
    "s1"
   ]
  },
  {
   "cell_type": "code",
   "execution_count": null,
   "id": "34bbf78c",
   "metadata": {},
   "outputs": [],
   "source": []
  },
  {
   "cell_type": "code",
   "execution_count": null,
   "id": "7ff851f5",
   "metadata": {},
   "outputs": [],
   "source": []
  },
  {
   "cell_type": "code",
   "execution_count": null,
   "id": "c85c13b7",
   "metadata": {},
   "outputs": [],
   "source": []
  },
  {
   "cell_type": "code",
   "execution_count": null,
   "id": "37b9c831",
   "metadata": {},
   "outputs": [],
   "source": []
  }
 ],
 "metadata": {
  "kernelspec": {
   "display_name": "Python 3 (ipykernel)",
   "language": "python",
   "name": "python3"
  },
  "language_info": {
   "codemirror_mode": {
    "name": "ipython",
    "version": 3
   },
   "file_extension": ".py",
   "mimetype": "text/x-python",
   "name": "python",
   "nbconvert_exporter": "python",
   "pygments_lexer": "ipython3",
   "version": "3.9.13"
  }
 },
 "nbformat": 4,
 "nbformat_minor": 5
}
